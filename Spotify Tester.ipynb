{
 "cells": [
  {
   "cell_type": "code",
   "execution_count": 1,
   "id": "c0dc9217",
   "metadata": {},
   "outputs": [],
   "source": [
    "import spotipy\n",
    "from spotipy.oauth2 import SpotifyOAuth\n",
    "from spotipy.oauth2 import SpotifyClientCredentials\n",
    "\n",
    "# import requests"
   ]
  },
  {
   "cell_type": "code",
   "execution_count": 1,
   "id": "bf1ae3a7",
   "metadata": {},
   "outputs": [
    {
     "name": "stdout",
     "output_type": "stream",
     "text": [
      "Requirement already satisfied: requests in c:\\users\\ronni\\anaconda3\\lib\\site-packages (2.28.1)\n",
      "Requirement already satisfied: urllib3<1.27,>=1.21.1 in c:\\users\\ronni\\anaconda3\\lib\\site-packages (from requests) (1.26.11)\n",
      "Requirement already satisfied: idna<4,>=2.5 in c:\\users\\ronni\\anaconda3\\lib\\site-packages (from requests) (3.3)\n",
      "Requirement already satisfied: charset-normalizer<3,>=2 in c:\\users\\ronni\\anaconda3\\lib\\site-packages (from requests) (2.0.4)\n",
      "Requirement already satisfied: certifi>=2017.4.17 in c:\\users\\ronni\\anaconda3\\lib\\site-packages (from requests) (2022.9.14)\n"
     ]
    }
   ],
   "source": [
    "!pip install requests"
   ]
  },
  {
   "cell_type": "code",
   "execution_count": 3,
   "id": "a47c3459",
   "metadata": {},
   "outputs": [],
   "source": [
    "c_id = \"a3a7f70023c24444a54c0946ba55ddbb\"\n",
    "c_sec = \"da5a2e5423e14b7293ecc917fdc43ce9\"\n",
    "\n",
    "sp = spotipy.Spotify(auth_manager=SpotifyOAuth(client_id=c_id,\n",
    "                                               client_secret=c_sec,\n",
    "                                               redirect_uri = \"http://localhost:8080\",                              \n",
    "                                               scope=['user-library-read', 'app-remote-control', 'playlist-modify-public']))\n"
   ]
  },
  {
   "cell_type": "code",
   "execution_count": 4,
   "id": "979a3bd9",
   "metadata": {},
   "outputs": [
    {
     "data": {
      "text/plain": [
       "'ys6zulztuqx0isqdyeuqezwhh'"
      ]
     },
     "execution_count": 4,
     "metadata": {},
     "output_type": "execute_result"
    }
   ],
   "source": [
    "# Get the user id of the current user\n",
    "user_id = sp.current_user()[\"id\"]\n",
    "\n",
    "if not user_id:\n",
    "    user_id = input(\"Enter your spotify user id: \")\n",
    "    \n",
    "\n",
    "user_id\n",
    "    "
   ]
  },
  {
   "cell_type": "code",
   "execution_count": 5,
   "id": "c2c890b6",
   "metadata": {},
   "outputs": [
    {
     "name": "stdout",
     "output_type": "stream",
     "text": [
      "Enter the playlist's name: Ingine\n"
     ]
    }
   ],
   "source": [
    "# Create the playlist\n",
    "playlist_name = input(\"Enter the playlist's name: \")\n",
    "playlist_description = 'A playlist generated from recommendations'\n",
    "\n",
    "playlist = sp.user_playlist_create(user=user_id,\n",
    "                                  name=playlist_name,\n",
    "                                  description=playlist_description)\n",
    "playlist_id = playlist[\"id\"]"
   ]
  },
  {
   "cell_type": "code",
   "execution_count": 30,
   "id": "13e5ac70",
   "metadata": {},
   "outputs": [
    {
     "name": "stdout",
     "output_type": "stream",
     "text": [
      "acoustic\n",
      "afrobeat\n",
      "alt-rock\n",
      "alternative\n",
      "ambient\n",
      "anime\n",
      "black-metal\n",
      "bluegrass\n",
      "blues\n",
      "bossanova\n",
      "brazil\n",
      "breakbeat\n",
      "british\n",
      "cantopop\n",
      "chicago-house\n",
      "children\n",
      "chill\n",
      "classical\n",
      "club\n",
      "comedy\n",
      "country\n",
      "dance\n",
      "dancehall\n",
      "death-metal\n",
      "deep-house\n",
      "detroit-techno\n",
      "disco\n",
      "disney\n",
      "drum-and-bass\n",
      "dub\n",
      "dubstep\n",
      "edm\n",
      "electro\n",
      "electronic\n",
      "emo\n",
      "folk\n",
      "forro\n",
      "french\n",
      "funk\n",
      "garage\n",
      "german\n",
      "gospel\n",
      "goth\n",
      "grindcore\n",
      "groove\n",
      "grunge\n",
      "guitar\n",
      "happy\n",
      "hard-rock\n",
      "hardcore\n",
      "hardstyle\n",
      "heavy-metal\n",
      "hip-hop\n",
      "holidays\n",
      "honky-tonk\n",
      "house\n",
      "idm\n",
      "indian\n",
      "indie\n",
      "indie-pop\n",
      "industrial\n",
      "iranian\n",
      "j-dance\n",
      "j-idol\n",
      "j-pop\n",
      "j-rock\n",
      "jazz\n",
      "k-pop\n",
      "kids\n",
      "latin\n",
      "latino\n",
      "malay\n",
      "mandopop\n",
      "metal\n",
      "metal-misc\n",
      "metalcore\n",
      "minimal-techno\n",
      "movies\n",
      "mpb\n",
      "new-age\n",
      "new-release\n",
      "opera\n",
      "pagode\n",
      "party\n",
      "philippines-opm\n",
      "piano\n",
      "pop\n",
      "pop-film\n",
      "post-dubstep\n",
      "power-pop\n",
      "progressive-house\n",
      "psych-rock\n",
      "punk\n",
      "punk-rock\n",
      "r-n-b\n",
      "rainy-day\n",
      "reggae\n",
      "reggaeton\n",
      "road-trip\n",
      "rock\n",
      "rock-n-roll\n",
      "rockabilly\n",
      "romance\n",
      "sad\n",
      "salsa\n",
      "samba\n",
      "sertanejo\n",
      "show-tunes\n",
      "singer-songwriter\n",
      "ska\n",
      "sleep\n",
      "songwriter\n",
      "soul\n",
      "soundtracks\n",
      "spanish\n",
      "study\n",
      "summer\n",
      "swedish\n",
      "synth-pop\n",
      "tango\n",
      "techno\n",
      "trance\n",
      "trip-hop\n",
      "turkish\n",
      "work-out\n",
      "world-music\n"
     ]
    }
   ],
   "source": [
    "genres = sp.recommendation_genre_seeds()\n",
    "for genre in genres['genres']:\n",
    "    print(genre)"
   ]
  },
  {
   "cell_type": "code",
   "execution_count": 33,
   "id": "45c04da9",
   "metadata": {},
   "outputs": [
    {
     "name": "stdout",
     "output_type": "stream",
     "text": [
      "Enter an artist of your choice: Burna boy\n",
      "Enter a song that you love: joro\n",
      "Enter the genre for the playlist: afrobeat\n"
     ]
    },
    {
     "data": {
      "text/plain": [
       "{'snapshot_id': 'MywwM2EzYWZlNjg3Zjk4ZGUwYWFjNjEzNjhlMmI5YWUxZmQ2Njk0OTY2'}"
      ]
     },
     "execution_count": 33,
     "metadata": {},
     "output_type": "execute_result"
    }
   ],
   "source": [
    "artist = input(\"Enter an artist of your choice: \")\n",
    "song = input(\"Enter a song that you love: \")\n",
    "genre = input(\"Enter the genre for the playlist: \")\n",
    "\n",
    "# Search for an artist\n",
    "artist_results = sp.search(q='artist:' + artist, type='artist')\n",
    "artist = artist_results['artists']['items'][0]\n",
    "artist_id = artist['id']\n",
    "\n",
    "# print(artist_id)\n",
    "\n",
    "# # Search for a song\n",
    "song_results = sp.search(q='track:' + song,type='track')\n",
    "song = song_results['tracks']['items'][0]\n",
    "song_id = song['id']\n",
    "\n",
    "# print(song_id)\n",
    "\n",
    "# Genre\n",
    "genre = genre.lower()\n",
    "    \n",
    "results = sp.recommendations(seed_artists=[artist_id], seed_tracks=[song_id], seed_genres=[genre])\n",
    "\n",
    "tracks_uri = [track[\"uri\"] for track in results[\"tracks\"]]\n",
    "\n",
    "# Add the recommended songs to the playlist\n",
    "sp.playlist_add_items(playlist_id=playlist_id, items=tracks_uri)"
   ]
  },
  {
   "cell_type": "code",
   "execution_count": 10,
   "id": "770d6824",
   "metadata": {},
   "outputs": [
    {
     "name": "stdout",
     "output_type": "stream",
     "text": [
      "Enter an artist of your choice: Show Dem Camp\n",
      "Enter a song that you love: Tropicanna\n",
      "Enter the genre for the playlist: Afrobeat\n"
     ]
    }
   ],
   "source": [
    "# Get recommendations based on artist's name, song or genre\n",
    "def get_recommendation():\n",
    "    artist = input(\"Enter an artist of your choice: \")\n",
    "    song = input(\"Enter a song that you love: \")\n",
    "    genre = input(\"Enter the genre for the playlist: \")\n",
    "    \n",
    "    # Search for an artist\n",
    "    artist_results = sp.search(q='artist:' + artist, type='artist')\n",
    "    artist = artist_results['artists']['items'][0]\n",
    "    artist_id = artist['id']\n",
    "\n",
    "    # Search for a song\n",
    "    song_results = sp.search(q='track:' + song,type='track')\n",
    "    song = song_results['tracks']['items'][0]\n",
    "    song_id = song['id']\n",
    "    \n",
    "    # Genre\n",
    "    genre = genre.lower()\n",
    "    \n",
    "    results = sp.recommendations(seed_artists=[artist_id], seed_tracks=[song_id], seed_genres=[genre])\n",
    "    \n",
    "    tracks_uri = [track[\"uri\"] for track in results[\"tracks\"]]\n",
    "    \n",
    "    # Add the recommended songs to the playlist\n",
    "    sp.playlist_add_items(playlist_id=playlist_id, items=tracks_uri)\n",
    "    \n",
    "#     # Wait for the API to complete the task\n",
    "#     sp.wait_for_client()\n",
    "\n",
    "#     print(\"Playlist created successfully\")\n",
    "\n",
    "\n",
    "get_recommendation()"
   ]
  },
  {
   "cell_type": "code",
   "execution_count": null,
   "id": "d77a745e",
   "metadata": {},
   "outputs": [],
   "source": []
  }
 ],
 "metadata": {
  "kernelspec": {
   "display_name": "Python 3 (ipykernel)",
   "language": "python",
   "name": "python3"
  },
  "language_info": {
   "codemirror_mode": {
    "name": "ipython",
    "version": 3
   },
   "file_extension": ".py",
   "mimetype": "text/x-python",
   "name": "python",
   "nbconvert_exporter": "python",
   "pygments_lexer": "ipython3",
   "version": "3.9.13"
  },
  "vscode": {
   "interpreter": {
    "hash": "d6d2232e1c662d02d607560a8c29612709d4063ce4c307b66850323d937cdc02"
   }
  }
 },
 "nbformat": 4,
 "nbformat_minor": 5
}
