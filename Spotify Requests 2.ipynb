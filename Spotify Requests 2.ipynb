{
 "cells": [
  {
   "cell_type": "code",
   "execution_count": 4,
   "id": "5cee90e4",
   "metadata": {},
   "outputs": [],
   "source": [
    "import requests\n",
    "import webbrowser\n",
    "import json"
   ]
  },
  {
   "cell_type": "code",
   "execution_count": 5,
   "id": "4930a6f8",
   "metadata": {},
   "outputs": [],
   "source": [
    "# !pip install webbrowser"
   ]
  },
  {
   "cell_type": "code",
   "execution_count": 13,
   "id": "41378e43",
   "metadata": {},
   "outputs": [],
   "source": [
    "c_id = \"a3a7f70023c24444a54c0946ba55ddbb\"\n",
    "c_sec = \"da5a2e5423e14b7293ecc917fdc43ce9\"\n",
    "r_uri = \"http://localhost:8888/callback\"\n",
    "# r_uri = \"http://localhost:8888/notebooks/Desktop/Python%20Projects/Playlist%20Curator/Spotify%20Requests%202.ipynb\""
   ]
  },
  {
   "cell_type": "code",
   "execution_count": 17,
   "id": "4bda3dd8",
   "metadata": {},
   "outputs": [
    {
     "data": {
      "text/plain": [
       "True"
      ]
     },
     "execution_count": 17,
     "metadata": {},
     "output_type": "execute_result"
    }
   ],
   "source": [
    "# Get authorization\n",
    "auth_endpoint = \"https://accounts.spotify.com/authorize\"\n",
    "\n",
    "auth_params = {\n",
    "    \"client_id\": c_id,\n",
    "    \"response_type\": \"code\",\n",
    "    \"redirect_uri\": r_uri,\n",
    "    \"scope\": \"user-library-read playlist-modify-public user-library-modify\"\n",
    "}\n",
    "\n",
    "\n",
    "auth_url = f\"{auth_endpoint}?{requests.compat.urlencode(auth_params)}\"\n",
    "\n",
    "# Open the authorization URL in the user's default browser\n",
    "webbrowser.open(auth_url)"
   ]
  },
  {
   "cell_type": "code",
   "execution_count": null,
   "id": "c6464f2f",
   "metadata": {},
   "outputs": [],
   "source": [
    "token_endpoint = \"https://accounts.spotify.com/api/token\"\n",
    "\n",
    "data = {\n",
    "    \"grant_type\": \"authorization_code\",\n",
    "    \"code\": auth_code,\n",
    "    \"redirect_uri\": redirect_uri,\n",
    "    \"client_id\": client_id,\n",
    "    \"client_secret\": client_secret\n",
    "}\n",
    "\n",
    "response = requests.post(token_endpoint, data=data)"
   ]
  }
 ],
 "metadata": {
  "kernelspec": {
   "display_name": "Python 3 (ipykernel)",
   "language": "python",
   "name": "python3"
  },
  "language_info": {
   "codemirror_mode": {
    "name": "ipython",
    "version": 3
   },
   "file_extension": ".py",
   "mimetype": "text/x-python",
   "name": "python",
   "nbconvert_exporter": "python",
   "pygments_lexer": "ipython3",
   "version": "3.9.13"
  }
 },
 "nbformat": 4,
 "nbformat_minor": 5
}
